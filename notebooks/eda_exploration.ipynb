{
 "cells": [
  {
   "cell_type": "code",
   "execution_count": null,
   "id": "a84f3610",
   "metadata": {},
   "outputs": [],
   "source": [
    "import sys\n",
    "import os\n",
    "\n",
    "#Add src directory to the Python path\n",
    "sys.path.append(os.path.abspath(\"../src\"))"
   ]
  },
  {
   "cell_type": "code",
   "execution_count": null,
   "id": "f18274ba",
   "metadata": {},
   "outputs": [],
   "source": [
    "from data_loader import load_turbofan_data, rename_turbofan_columns, check_data_integrity\n",
    "from utils import identify_constant_sensors, drop_constant_sensors, plot_engine_cycle_distribution, plot_sensor_distributions"
   ]
  },
  {
   "cell_type": "code",
   "execution_count": null,
   "id": "babd773a",
   "metadata": {},
   "outputs": [],
   "source": [
    "from data_loader import load_turbofan_data, rename_turbofan_columns, check_data_integrity"
   ]
  },
  {
   "cell_type": "code",
   "execution_count": null,
   "id": "e270c5d3",
   "metadata": {},
   "outputs": [],
   "source": [
    "#Set file path\n",
    "file_path = '../data/train_FD001.txt'"
   ]
  },
  {
   "cell_type": "code",
   "execution_count": null,
   "id": "a3d3aca0",
   "metadata": {},
   "outputs": [],
   "source": [
    "#Load data\n",
    "df = load_turbofan_data(file_path)\n"
   ]
  },
  {
   "cell_type": "code",
   "execution_count": null,
   "id": "0d5eee86",
   "metadata": {},
   "outputs": [],
   "source": [
    "#Rename columns\n",
    "df = rename_turbofan_columns(df)"
   ]
  },
  {
   "cell_type": "code",
   "execution_count": null,
   "id": "4a172d33",
   "metadata": {},
   "outputs": [],
   "source": [
    "#Check integrity\n",
    "check_data_integrity(df)"
   ]
  },
  {
   "cell_type": "code",
   "execution_count": null,
   "id": "fe3fff3e",
   "metadata": {},
   "outputs": [],
   "source": [
    "from utils import plot_engine_cycle_distribution, plot_sensor_distributions"
   ]
  },
  {
   "cell_type": "code",
   "execution_count": null,
   "id": "70ae15fb",
   "metadata": {},
   "outputs": [],
   "source": [
    "plot_engine_cycle_distribution(df)"
   ]
  },
  {
   "cell_type": "code",
   "execution_count": null,
   "id": "07b69da5",
   "metadata": {},
   "outputs": [],
   "source": [
    "sensors_to_plot = [\n",
    "    'sensor_measurement_2',\n",
    "    'sensor_measurement_3',\n",
    "    'sensor_measurement_4'\n",
    "]\n",
    "\n",
    "plot_sensor_distributions(df, sensors_to_plot)"
   ]
  },
  {
   "cell_type": "code",
   "execution_count": null,
   "id": "888404a6",
   "metadata": {},
   "outputs": [],
   "source": [
    "from utils import identify_constant_sensors"
   ]
  },
  {
   "cell_type": "code",
   "execution_count": null,
   "id": "6b91fbeb",
   "metadata": {},
   "outputs": [],
   "source": [
    "constant_sensors = identify_constant_sensors(df)"
   ]
  },
  {
   "cell_type": "code",
   "execution_count": null,
   "id": "3df47417",
   "metadata": {},
   "outputs": [],
   "source": [
    "from utils import drop_constant_sensors"
   ]
  },
  {
   "cell_type": "code",
   "execution_count": null,
   "id": "af3853da",
   "metadata": {},
   "outputs": [],
   "source": [
    "from utils import plot_operational_settings_distribution"
   ]
  },
  {
   "cell_type": "code",
   "execution_count": null,
   "id": "ccaff30f",
   "metadata": {},
   "outputs": [],
   "source": [
    "plot_operational_settings_distribution(df)"
   ]
  },
  {
   "cell_type": "code",
   "execution_count": null,
   "id": "36731f76",
   "metadata": {},
   "outputs": [],
   "source": [
    "from utils import drop_columns"
   ]
  },
  {
   "cell_type": "code",
   "execution_count": null,
   "id": "c0f74466",
   "metadata": {},
   "outputs": [],
   "source": [
    "columns_to_remove = ['operational_setting_3']\n",
    "df = drop_columns(df, columns_to_remove)"
   ]
  },
  {
   "cell_type": "code",
   "execution_count": null,
   "id": "b588d2cd",
   "metadata": {},
   "outputs": [],
   "source": [
    "from utils import plot_correlation_heatmap"
   ]
  },
  {
   "cell_type": "code",
   "execution_count": null,
   "id": "99dd7b54",
   "metadata": {},
   "outputs": [],
   "source": [
    "plot_correlation_heatmap(df)"
   ]
  },
  {
   "cell_type": "code",
   "execution_count": null,
   "id": "c859f78a",
   "metadata": {},
   "outputs": [],
   "source": [
    "columns_to_remove = [\n",
    "    'sensor_measurement_1',\n",
    "    'sensor_measurement_5',\n",
    "    'sensor_measurement_10',\n",
    "    'sensor_measurement_16',\n",
    "    'sensor_measurement_18',\n",
    "    'sensor_measurement_19'\n",
    "]\n",
    "\n",
    "df = drop_columns(df, columns_to_remove)"
   ]
  },
  {
   "cell_type": "code",
   "execution_count": null,
   "id": "43fc4b10",
   "metadata": {},
   "outputs": [],
   "source": [
    "from utils import plot_sensor_boxplots"
   ]
  },
  {
   "cell_type": "code",
   "execution_count": null,
   "id": "0566077d",
   "metadata": {},
   "outputs": [],
   "source": [
    "sensors_to_plot = [\n",
    "    'sensor_measurement_2',\n",
    "    'sensor_measurement_3',\n",
    "    'sensor_measurement_4',\n",
    "    'sensor_measurement_7',\n",
    "    'sensor_measurement_11'\n",
    "]\n",
    "\n",
    "plot_sensor_boxplots(df, sensors_to_plot)"
   ]
  },
  {
   "cell_type": "code",
   "execution_count": null,
   "id": "eb5741d9",
   "metadata": {},
   "outputs": [],
   "source": [
    "from utils import compute_rul"
   ]
  },
  {
   "cell_type": "code",
   "execution_count": null,
   "id": "d675f1a4",
   "metadata": {},
   "outputs": [],
   "source": [
    "df = compute_rul(df)"
   ]
  },
  {
   "cell_type": "code",
   "execution_count": null,
   "id": "e51a0d95",
   "metadata": {},
   "outputs": [],
   "source": [
    "from utils import train_random_forest_and_get_feature_importance"
   ]
  },
  {
   "cell_type": "code",
   "execution_count": null,
   "id": "81003760",
   "metadata": {},
   "outputs": [],
   "source": [
    "importances_df = train_random_forest_and_get_feature_importance(df)"
   ]
  },
  {
   "cell_type": "code",
   "execution_count": null,
   "id": "5182042e",
   "metadata": {},
   "outputs": [],
   "source": [
    "from utils import train_rf_and_evaluate"
   ]
  },
  {
   "cell_type": "code",
   "execution_count": null,
   "id": "ba9587ec",
   "metadata": {},
   "outputs": [],
   "source": [
    "importances_df = train_rf_and_evaluate(df)"
   ]
  },
  {
   "cell_type": "code",
   "execution_count": null,
   "id": "8407f69a",
   "metadata": {},
   "outputs": [],
   "source": [
    "from utils import add_rolling_features"
   ]
  },
  {
   "cell_type": "code",
   "execution_count": null,
   "id": "3e79b79c",
   "metadata": {},
   "outputs": [],
   "source": [
    "df = add_rolling_features(df, window=5)"
   ]
  },
  {
   "cell_type": "code",
   "execution_count": null,
   "id": "d751f89c",
   "metadata": {},
   "outputs": [],
   "source": [
    "importances_df = train_rf_and_evaluate(df)"
   ]
  },
  {
   "cell_type": "code",
   "execution_count": null,
   "id": "7d3fb82f",
   "metadata": {},
   "outputs": [],
   "source": [
    "from utils import train_lightgbm_and_evaluate"
   ]
  },
  {
   "cell_type": "code",
   "execution_count": null,
   "id": "e67fc602",
   "metadata": {},
   "outputs": [],
   "source": [
    "importances_df = train_lightgbm_and_evaluate(df)"
   ]
  },
  {
   "cell_type": "code",
   "execution_count": null,
   "id": "cbda5d6a",
   "metadata": {},
   "outputs": [],
   "source": [
    "from utils import train_xgboost_and_evaluate"
   ]
  },
  {
   "cell_type": "code",
   "execution_count": null,
   "id": "cf1b9980",
   "metadata": {},
   "outputs": [],
   "source": [
    "importances_df = train_xgboost_and_evaluate(df)"
   ]
  },
  {
   "cell_type": "code",
   "execution_count": null,
   "id": "6e301515",
   "metadata": {},
   "outputs": [],
   "source": [
    "from utils import train_rf_and_return_model"
   ]
  },
  {
   "cell_type": "code",
   "execution_count": null,
   "id": "130fe590",
   "metadata": {},
   "outputs": [],
   "source": [
    "trained_rf_model, df = train_rf_and_return_model(df)"
   ]
  },
  {
   "cell_type": "code",
   "execution_count": null,
   "id": "59d6ad7b",
   "metadata": {},
   "outputs": [],
   "source": [
    "from utils import compute_anomaly_threshold, plot_prediction_error_distribution"
   ]
  },
  {
   "cell_type": "code",
   "execution_count": null,
   "id": "77ecec1d",
   "metadata": {},
   "outputs": [],
   "source": [
    "#Anomaly threshold and graph\n",
    "threshold = compute_anomaly_threshold(df)\n",
    "plot_prediction_error_distribution(df, threshold)\n",
    "\n",
    "#List anomaly examples\n",
    "anomalies = df[df['error'] > threshold]\n",
    "print(f\"Number of anomalies detected: {len(anomalies)}\")\n",
    "display(anomalies[['unit_number', 'time_in_cycles', 'RUL', 'predicted_RUL', 'error']].head())"
   ]
  },
  {
   "cell_type": "code",
   "execution_count": null,
   "id": "a44557f6",
   "metadata": {},
   "outputs": [],
   "source": [
    "anomalies.to_csv(\"anomalies_detected.csv\", index=False)\n",
    "print(\"Anomalies exported to anomalies_detected.csv\")\n"
   ]
  },
  {
   "cell_type": "code",
   "execution_count": null,
   "id": "4bd830f7",
   "metadata": {},
   "outputs": [],
   "source": [
    "import matplotlib.pyplot as plt\n",
    "import seaborn as sns\n",
    "\n",
    "df['is_anomaly'] = df['error'] > threshold\n",
    "\n",
    "plt.figure(figsize=(12, 6))\n",
    "sns.scatterplot(\n",
    "    data=df,\n",
    "    x='time_in_cycles',\n",
    "    y='error',\n",
    "    hue='is_anomaly',\n",
    "    palette={True: 'red', False: 'blue'},\n",
    "    legend='brief'\n",
    ")\n",
    "plt.title(\"Prediction Error over Cycles with Anomalies Highlighted\")\n",
    "plt.xlabel(\"Time in Cycles\")\n",
    "plt.ylabel(\"Prediction Error\")\n",
    "plt.legend(title=\"Anomaly\", labels=[\"Normal\", \"Anomaly\"])\n",
    "plt.show()\n"
   ]
  },
  {
   "cell_type": "code",
   "execution_count": null,
   "id": "4b0346ff",
   "metadata": {},
   "outputs": [],
   "source": [
    "plt.figure(figsize=(12, 6))\n",
    "sns.scatterplot(\n",
    "    data=df,\n",
    "    x='unit_number',\n",
    "    y='error',\n",
    "    hue='is_anomaly',\n",
    "    palette={True: 'red', False: 'blue'},\n",
    "    legend='brief'\n",
    ")\n",
    "plt.title(\"Prediction Error by Unit Number with Anomalies Highlighted\")\n",
    "plt.xlabel(\"Unit Number\")\n",
    "plt.ylabel(\"Prediction Error\")\n",
    "plt.legend(title=\"Anomaly\", labels=[\"Normal\", \"Anomaly\"])\n",
    "plt.show()"
   ]
  },
  {
   "cell_type": "code",
   "execution_count": null,
   "id": "4a4a6bfa",
   "metadata": {},
   "outputs": [],
   "source": [
    "report_content = \"\"\"\n",
    "# Turbofan Engine RUL Prediction & Anomaly Detection Report\n",
    "\n",
    "## Project Objective\n",
    "Develop a machine learning pipeline to:\n",
    "- Predict Remaining Useful Life (RUL) of turbofan engines.\n",
    "- Detect anomalies based on prediction errors.\n",
    "\n",
    "---\n",
    "\n",
    "## Data & Features\n",
    "- Dataset: NASA CMAPSS Turbofan Engine Degradation Dataset (FD001)\n",
    "- Rolling features: 5-cycle rolling mean and std of sensor readings\n",
    "- Final feature count: 47 (after adding rolling features and dropping constants)\n",
    "\n",
    "---\n",
    "\n",
    "## Final Model\n",
    "- Model: Random Forest Regressor\n",
    "- R²: 0.7431\n",
    "- MAE: 23.59\n",
    "- RMSE: 34.26\n",
    "- Best features: Rolling mean & std of key sensors (e.g., sensor_4, sensor_11, sensor_9)\n",
    "\n",
    "---\n",
    "\n",
    "## Anomaly Detection\n",
    "- Method: IQR-based thresholding of prediction error\n",
    "- Threshold: 35.68\n",
    "- Total anomalies detected: 1306\n",
    "\n",
    "---\n",
    "\n",
    "## Visual Insights\n",
    "- Prediction Error over Cycles: See `cycle_anomaly_plot.png`\n",
    "- Prediction Error by Unit Number: See `unit_anomaly_plot.png`\n",
    "\n",
    "---\n",
    "\n",
    "## Exported Files\n",
    "- `anomalies_detected.csv`: List of detected anomalies with unit, cycle, RUL, prediction, error\n",
    "\n",
    "---\n",
    "\n",
    "## Next Steps\n",
    "- Optional hyperparameter tuning\n",
    "- Alternative anomaly thresholds (e.g. z-score)\n",
    "- Deployment as a script or microservice\n",
    "\"\"\"\n",
    "\n",
    "with open(\"README.md\", \"w\", encoding=\"utf-8\") as file:\n",
    "    file.write(report_content)\n",
    "\n",
    "print(\"README.md file has been created successfully!\")\n"
   ]
  },
  {
   "cell_type": "code",
   "execution_count": null,
   "id": "ae50e513",
   "metadata": {},
   "outputs": [],
   "source": [
    "#Cycle anomaly plot\n",
    "plt.figure(figsize=(12, 6))\n",
    "sns.scatterplot(\n",
    "    data=df,\n",
    "    x='time_in_cycles',\n",
    "    y='error',\n",
    "    hue='is_anomaly',\n",
    "    palette={True: 'red', False: 'blue'},\n",
    "    legend='brief'\n",
    ")\n",
    "plt.title(\"Prediction Error over Cycles with Anomalies Highlighted\")\n",
    "plt.xlabel(\"Time in Cycles\")\n",
    "plt.ylabel(\"Prediction Error\")\n",
    "plt.legend(title=\"Anomaly\", labels=[\"Normal\", \"Anomaly\"])\n",
    "plt.savefig(\"cycle_anomaly_plot.png\")\n",
    "plt.close()\n",
    "\n",
    "#Unit anomaly plot\n",
    "plt.figure(figsize=(12, 6))\n",
    "sns.scatterplot(\n",
    "    data=df,\n",
    "    x='unit_number',\n",
    "    y='error',\n",
    "    hue='is_anomaly',\n",
    "    palette={True: 'red', False: 'blue'},\n",
    "    legend='brief'\n",
    ")\n",
    "plt.title(\"Prediction Error by Unit Number with Anomalies Highlighted\")\n",
    "plt.xlabel(\"Unit Number\")\n",
    "plt.ylabel(\"Prediction Error\")\n",
    "plt.legend(title=\"Anomaly\", labels=[\"Normal\", \"Anomaly\"])\n",
    "plt.savefig(\"unit_anomaly_plot.png\")\n",
    "plt.close()\n",
    "\n",
    "print(\"Plots saved as cycle_anomaly_plot.png and unit_anomaly_plot.png\")\n"
   ]
  },
  {
   "cell_type": "code",
   "execution_count": null,
   "id": "580501da",
   "metadata": {},
   "outputs": [],
   "source": [
    "pipeline_code = '''\n",
    "import pandas as pd\n",
    "import numpy as np\n",
    "from sklearn.ensemble import RandomForestRegressor\n",
    "from sklearn.metrics import r2_score, mean_absolute_error, mean_squared_error\n",
    "import matplotlib.pyplot as plt\n",
    "import seaborn as sns\n",
    "\n",
    "# Load data\n",
    "df = pd.read_csv(\"YOUR_DATA_FILE.csv\")  # <--- DATA DOSYANIN ADINI GÜNCELLE\n",
    "\n",
    "# Feature engineering (örneğin rolling mean/std varsa buraya ekle)\n",
    "# ...\n",
    "\n",
    "# Model\n",
    "feature_cols = [col for col in df.columns if col not in ['unit_number', 'time_in_cycles', 'RUL']]\n",
    "X = df[feature_cols]\n",
    "y = df['RUL']\n",
    "\n",
    "model = RandomForestRegressor(n_estimators=100, random_state=42, n_jobs=-1)\n",
    "model.fit(X, y)\n",
    "df['predicted_RUL'] = model.predict(X)\n",
    "df['error'] = np.abs(df['RUL'] - df['predicted_RUL'])\n",
    "\n",
    "# Threshold\n",
    "Q1 = df['error'].quantile(0.25)\n",
    "Q3 = df['error'].quantile(0.75)\n",
    "IQR = Q3 - Q1\n",
    "threshold = Q3 + 1.5 * IQR\n",
    "\n",
    "df['is_anomaly'] = df['error'] > threshold\n",
    "\n",
    "# Export anomalies\n",
    "df[df['is_anomaly']].to_csv(\"anomalies_detected.csv\", index=False)\n",
    "\n",
    "# Plot & save\n",
    "plt.figure(figsize=(12, 6))\n",
    "sns.scatterplot(data=df, x='time_in_cycles', y='error', hue='is_anomaly', palette={True: 'red', False: 'blue'}, legend='brief')\n",
    "plt.title(\"Prediction Error over Cycles with Anomalies Highlighted\")\n",
    "plt.savefig(\"cycle_anomaly_plot.png\")\n",
    "plt.close()\n",
    "\n",
    "plt.figure(figsize=(12, 6))\n",
    "sns.scatterplot(data=df, x='unit_number', y='error', hue='is_anomaly', palette={True: 'red', False: 'blue'}, legend='brief')\n",
    "plt.title(\"Prediction Error by Unit Number with Anomalies Highlighted\")\n",
    "plt.savefig(\"unit_anomaly_plot.png\")\n",
    "plt.close()\n",
    "\n",
    "print(\"Pipeline completed. Files saved.\")\n",
    "'''\n",
    "\n",
    "with open(\"pipeline.py\", \"w\", encoding=\"utf-8\") as f:\n",
    "    f.write(pipeline_code)\n",
    "\n",
    "print(\"Pipeline.py file created. Update YOUR_DATA_FILE.csv path in the script!\")\n",
    "# This code creates a pipeline script that loads data, trains a model, detects anomalies, and saves results."
   ]
  },
  {
   "cell_type": "code",
   "execution_count": null,
   "id": "b2eb7c62",
   "metadata": {},
   "outputs": [],
   "source": [
    "from fpdf import FPDF\n",
    "\n",
    "pdf = FPDF()\n",
    "pdf.add_page()\n",
    "pdf.set_font(\"Arial\", size=12)\n",
    "\n",
    "with open(\"README.md\", \"r\", encoding=\"utf-8\") as file:\n",
    "    for line in file:\n",
    "        pdf.multi_cell(0, 10, line)\n",
    "\n",
    "pdf.output(\"Turbofan_Anomaly_Detection.pdf\")\n",
    "print(\"PDF created: turbofan_project_report.pdf\")\n"
   ]
  },
  {
   "cell_type": "code",
   "execution_count": null,
   "id": "93d7814f",
   "metadata": {},
   "outputs": [],
   "source": [
    "import zipfile\n",
    "import os\n",
    "\n",
    "final_zip = \"Turbofan_Anomaly_Detection.zip\"\n",
    "\n",
    "files_to_include = [\n",
    "    \"README.md\",\n",
    "    \"Turbofan_Anomaly_Detection.pdf\",\n",
    "    \"pipeline.py\",\n",
    "    \"anomalies_detected.csv\",\n",
    "    \"cycle_anomaly_plot.png\",\n",
    "    \"unit_anomaly_plot.png\"\n",
    "]\n",
    "\n",
    "with zipfile.ZipFile(final_zip, 'w') as zipf:\n",
    "    for file in files_to_include:\n",
    "        if os.path.exists(file):\n",
    "            zipf.write(file)\n",
    "            print(f\"Added: {file}\")\n",
    "        else:\n",
    "            print(f\"Warning: {file} not found, skipping.\")\n",
    "\n",
    "print(f\"ZIP file created: {final_zip}\")\n"
   ]
  }
 ],
 "metadata": {
  "kernelspec": {
   "display_name": "Python 3",
   "language": "python",
   "name": "python3"
  },
  "language_info": {
   "codemirror_mode": {
    "name": "ipython",
    "version": 3
   },
   "file_extension": ".py",
   "mimetype": "text/x-python",
   "name": "python",
   "nbconvert_exporter": "python",
   "pygments_lexer": "ipython3",
   "version": "3.10.9"
  }
 },
 "nbformat": 4,
 "nbformat_minor": 5
}
